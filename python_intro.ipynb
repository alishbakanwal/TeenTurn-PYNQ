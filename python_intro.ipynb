{
 "cells": [
  {
   "cell_type": "markdown",
   "id": "d2f30071-54e6-4d70-a191-9f1ac21060bd",
   "metadata": {},
   "source": [
    "# Python Examples"
   ]
  },
  {
   "cell_type": "markdown",
   "id": "3c5ee59c-18d9-4a8c-9c7a-da744cb6f36c",
   "metadata": {},
   "source": [
    "Examples taken from [here](https://www.programiz.com/python-programming/examples)"
   ]
  },
  {
   "cell_type": "markdown",
   "id": "4acbee30-655d-4e22-8557-4e5644504d4d",
   "metadata": {},
   "source": [
    "## Beginner"
   ]
  },
  {
   "cell_type": "markdown",
   "id": "6b8f92eb-681c-4475-b982-80eaca4f6310",
   "metadata": {},
   "source": [
    "#### 1: __Print Hello World!__"
   ]
  },
  {
   "cell_type": "code",
   "execution_count": 1,
   "id": "4a200495-c347-463a-9211-08334badd94f",
   "metadata": {},
   "outputs": [
    {
     "name": "stdout",
     "output_type": "stream",
     "text": [
      "Hello world!\n"
     ]
    }
   ],
   "source": [
    "## This code prints Hello world!\n",
    "print('Hello world!')\n",
    "\n",
    "num \n",
    "Num\n",
    "\n",
    "num_1_banana\n",
    "_num\n",
    "\n",
    "\n",
    "\n"
   ]
  },
  {
   "cell_type": "markdown",
   "id": "6edbeb74-f057-4cac-a687-379d8eae1335",
   "metadata": {},
   "source": [
    "#### 2: __Add Two Numbers__"
   ]
  },
  {
   "cell_type": "markdown",
   "id": "264814b9-709d-41ac-b45e-2dd55936b5c6",
   "metadata": {},
   "source": [
    "Concepts: <br>\n",
    "[Data Types](https://www.programiz.com/python-programming/variables-datatypes) + [Basic Input and Output](https://www.programiz.com/python-programming/input-output-import) + [Operators](https://www.programiz.com/python-programming/operators)"
   ]
  },
  {
   "cell_type": "code",
   "execution_count": 11,
   "id": "2304ba03-81fd-4fb8-82ce-e80eb4c0472f",
   "metadata": {},
   "outputs": [
    {
     "name": "stdout",
     "output_type": "stream",
     "text": [
      "The sum of 3.4 and 56 is 59.4\n",
      "The sum of 3.4 and 56 is 59.4\n"
     ]
    }
   ],
   "source": [
    "## Add two numbers x and y\n",
    "x = 3.4\n",
    "y = 56\n",
    "# 'sum' is x+y\n",
    "sum = x+y\n",
    "# + - * / %\n",
    "\n",
    "# Display the sum\n",
    "print('The sum of { } and {} is {}'.format(x, y, sum))\n",
    "print('The sum of', x, 'and', y, 'is', sum)"
   ]
  },
  {
   "cell_type": "markdown",
   "id": "a6c775f8-6b8c-459f-9c3a-8ff911ae3e94",
   "metadata": {},
   "source": [
    "#### 3: __Swap Two Variables__"
   ]
  },
  {
   "cell_type": "markdown",
   "id": "3c99edc4-8370-42fa-a36b-1846734d91ae",
   "metadata": {},
   "source": [
    "Concepts: <br>\n",
    "[Data Types](https://www.programiz.com/python-programming/variables-datatypes) + [Basic Input and Output](https://www.programiz.com/python-programming/input-output-import) + [Operators](https://www.programiz.com/python-programming/operators)"
   ]
  },
  {
   "cell_type": "code",
   "execution_count": 14,
   "id": "b4da17e3-01e8-4cee-babb-597d0bfea064",
   "metadata": {},
   "outputs": [
    {
     "name": "stdin",
     "output_type": "stream",
     "text": [
      "Enter value for x:  \n",
      "Enter value for y:  \n"
     ]
    }
   ],
   "source": [
    "## Swap variables x and y\n",
    "\n",
    "# Take values from user\n",
    "# x = 7\n",
    "# y = 8\n",
    "x = input('Enter value for x: ')\n",
    "y = input('Enter value for y: ')"
   ]
  },
  {
   "cell_type": "code",
   "execution_count": 16,
   "id": "59e6e709-b15e-4945-94d6-14428ab70e95",
   "metadata": {},
   "outputs": [
    {
     "name": "stdout",
     "output_type": "stream",
     "text": [
      "temp is: \n",
      "temp is: \n"
     ]
    }
   ],
   "source": [
    "# Create a temporary variable\n",
    "temp = x\n",
    "print('temp is: '.format(temp))\n",
    "x = y\n",
    "print('temp is: '.format(y))\n",
    "y = temp"
   ]
  },
  {
   "cell_type": "code",
   "execution_count": 3,
   "id": "3504d5d5-524e-475a-b51c-1aa37eccf5f7",
   "metadata": {},
   "outputs": [
    {
     "name": "stdout",
     "output_type": "stream",
     "text": [
      "Value of x after swapping: 8\n",
      "Value of y after swapping: 7\n"
     ]
    }
   ],
   "source": [
    "# Display swapped values\n",
    "print ('Value of x after swapping: {}'.format(x))\n",
    "print ('Value of y after swapping: {}'.format(y))"
   ]
  },
  {
   "cell_type": "markdown",
   "id": "751660e0-3cf7-4252-b9ad-e042a133e2f6",
   "metadata": {},
   "source": [
    "---"
   ]
  },
  {
   "cell_type": "markdown",
   "id": "5501da23-bc59-4abe-b8c0-8b125d8cf5da",
   "metadata": {},
   "source": [
    "## Intermediate"
   ]
  },
  {
   "cell_type": "markdown",
   "id": "b79a8fb0-535d-4acf-900d-91c04452bdbc",
   "metadata": {},
   "source": [
    "#### 1: __Find Square Root__"
   ]
  },
  {
   "cell_type": "markdown",
   "id": "35a50dc8-3d11-4639-9e8d-99da047eda26",
   "metadata": {},
   "source": [
    "$$ sqrtx = \\sqrt{x}$$"
   ]
  },
  {
   "cell_type": "markdown",
   "id": "81ea1eaa-469e-49ed-9c31-0d6fa3dad430",
   "metadata": {},
   "source": [
    "Concepts: [if..else statements](https://www.programiz.com/python-programming/if-elif-else) <br>"
   ]
  },
  {
   "cell_type": "code",
   "execution_count": null,
   "id": "103ed905-4cb5-4b89-a44b-7d9bdf599156",
   "metadata": {},
   "outputs": [],
   "source": [
    "## Calculate sqaure root of a given number\n",
    "# Take value from user\n",
    "x = float(input('Enter value of x: '))"
   ]
  },
  {
   "cell_type": "code",
   "execution_count": null,
   "id": "5e37c1b9-d303-405f-9731-04abe31a85ee",
   "metadata": {},
   "outputs": [],
   "source": [
    "# Find square root of x\n",
    "x_sqrt = x ** 0.5\n",
    "print('The square root of {:.2f} is {:.4f}'.format(x, x_sqrt))"
   ]
  },
  {
   "cell_type": "code",
   "execution_count": null,
   "id": "91560cac-ec6c-4ad6-b3a9-39ae4fa1be12",
   "metadata": {},
   "outputs": [],
   "source": [
    "# To find square root of complex number\n",
    "import cmath\n",
    "\n",
    "num = 1+2j\n",
    "num_sqrt = cmath.sqrt(num)\n",
    "print('The square root of {} is {:.3f}+{:.3f}j'.format(num, num_sqrt.real, num_sqrt.imag))"
   ]
  },
  {
   "cell_type": "markdown",
   "id": "b7dc00be-f01d-471f-b382-d9f665ccc83f",
   "metadata": {},
   "source": []
  },
  {
   "cell_type": "markdown",
   "id": "82854dbc-5348-43a6-b6c8-ca4947d27806",
   "metadata": {},
   "source": [
    "#### 2: __Check Prime Number__"
   ]
  },
  {
   "cell_type": "markdown",
   "id": "393525cf-015c-46a4-b750-5ffb3b50f3a7",
   "metadata": {},
   "source": [
    "Concepts: <br>\n",
    "[if..else statements](https://www.programiz.com/python-programming/if-elif-else) + [for loop](https://www.programiz.com/python-programming/for-loop) <br>\n",
    "\n",
    "Tied to writing code to [find the factors of a number](https://www.programiz.com/python-programming/examples/factor-number)"
   ]
  },
  {
   "cell_type": "code",
   "execution_count": null,
   "id": "9f92e519-3f3a-4f3e-8713-21868c967ff0",
   "metadata": {},
   "outputs": [],
   "source": [
    "## Check if a given number is prime or not\n",
    "num =  23\n",
    "\n",
    "flag = False\n",
    "# Iterate over all numbers 2 : num-1\n",
    "if num == 1:\n",
    "    print('{} is not prime'.format(num))\n",
    "else:\n",
    "    for i in range(2,num):\n",
    "        if num%i == 0:\n",
    "            print('Factor found: {} '.format(i))\n",
    "            flag = True\n",
    "    if flag:\n",
    "        print('{} is not prime'.format(num))\n",
    "    else:\n",
    "        print('{} is prime'.format(num))\n",
    "\n",
    "        \n",
    "        "
   ]
  },
  {
   "cell_type": "markdown",
   "id": "6db6dc3f-b9cd-4839-9ada-b23f8a05f44c",
   "metadata": {},
   "source": [
    "#### 3: __Print the Fibonacci Sequence__"
   ]
  },
  {
   "cell_type": "markdown",
   "id": "c492120c-f781-49e6-81ad-d10f4500b342",
   "metadata": {},
   "source": [
    "A Fibonacci sequence is the integer sequence:\n",
    "$$ F_n = F_{n-1}+F_{n-2}$$\n",
    "Which expands to:\n",
    "$$ 0, 1, 1, 2, 3, 5, 8.... $$\n"
   ]
  },
  {
   "cell_type": "markdown",
   "id": "693b1978-4888-4c25-8010-e90c58b4efff",
   "metadata": {},
   "source": [
    "Concepts: <br>\n",
    "[if..else statements](https://www.programiz.com/python-programming/if-elif-else) + [for loop](https://www.programiz.com/python-programming/for-loop) "
   ]
  },
  {
   "cell_type": "code",
   "execution_count": null,
   "id": "33ea7586-2986-48fb-b17d-0b50ef80d653",
   "metadata": {},
   "outputs": [],
   "source": [
    "## Print the Fibonacci sequence upto the n-th term\n",
    "nterms = int(input('How many terms? '))\n",
    "\n",
    "n1, n2 = 0, 1\n",
    "print('Fibonaccci sequence:')\n",
    "for i in range(nterms-1):\n",
    "    # Print first two elements\n",
    "    if i < 1:\n",
    "        print(n1)\n",
    "        print(n2)\n",
    "    else:\n",
    "        # Find new element\n",
    "        num = n1 + n2\n",
    "        # Update variables\n",
    "        n1 = n2\n",
    "        n2 = num\n",
    "        print(num)\n",
    "\n",
    "    "
   ]
  },
  {
   "cell_type": "code",
   "execution_count": null,
   "id": "160b7c10-6a5b-4908-bd02-dc58d67589ef",
   "metadata": {},
   "outputs": [],
   "source": []
  },
  {
   "cell_type": "markdown",
   "id": "f1587bad-fd58-4588-8ea4-898939a8e806",
   "metadata": {},
   "source": [
    "#### 4: __Solve a Quadratic Equation__"
   ]
  },
  {
   "cell_type": "markdown",
   "id": "c4e92ba2-f4ac-4e78-ac47-c51ad928cb49",
   "metadata": {},
   "source": [
    "The standard form of a quadratic equation is: <br>\n",
    "$$ax^2+bx+c=0 $$ where: <br>\n",
    "&nbsp;&nbsp;&nbsp;&nbsp;&nbsp;&nbsp;&nbsp;&nbsp; * $a, b$ and $c$ are real numbers <br>\n",
    "&nbsp;&nbsp;&nbsp;&nbsp;&nbsp;&nbsp;&nbsp;&nbsp; * $a \\ne 0$ <br>\n",
    "When $ a\\ne 0$, there are two solutions to ( $ax^2+bx+c=0 $ ):  <br>\n",
    "$$ x = {-b \\pm \\sqrt{b^2-4ac} \\over 2a} $$ <br>\n",
    "Where the expression ($b^2-4ac$) is commonly called the _determinant_"
   ]
  },
  {
   "cell_type": "markdown",
   "id": "05b7a236-b0d1-4c25-aa00-2d852d746635",
   "metadata": {},
   "source": [
    "The solution of this equation can be represented by: <br> \n",
    "&nbsp;&nbsp;&nbsp;&nbsp;&nbsp;&nbsp;&nbsp;&nbsp;$x = -b + (b ** 2 - 4 * a * c) ** 0.5) / 2 * a $ <br>\n",
    "&nbsp;&nbsp;&nbsp;&nbsp;&nbsp;&nbsp;&nbsp;&nbsp;$x = -b - (b ** 2 - 4 * a * c) ** 0.5) / 2 * a $ <br>\n",
    "And this is what we're going to code!"
   ]
  },
  {
   "cell_type": "code",
   "execution_count": null,
   "id": "2d3b91ec-d6bb-4e82-a322-f60d1644dc77",
   "metadata": {},
   "outputs": [],
   "source": [
    "## Solve a quadratic equation \n",
    "import cmath\n",
    "\n",
    "a = 1\n",
    "b = 5\n",
    "c = 6\n",
    "\n",
    "# Calculate the discriminant\n",
    "d = b**2 - 4*a*c\n",
    "\n",
    "# Find the two solutions\n",
    "sol1 = (-b + cmath.sqrt(d))/(2*a)\n",
    "sol2 = (-b - cmath.sqrt(d))/(2*a)\n",
    "\n",
    "print(sol1)\n",
    "print(sol2)"
   ]
  },
  {
   "cell_type": "markdown",
   "id": "0a405419-f449-4e79-94f4-0ec0eb023148",
   "metadata": {},
   "source": [
    "---\n",
    "##### __Try It Yourself!__\n",
    "##### Check if a Number is +ve or -ve"
   ]
  },
  {
   "cell_type": "markdown",
   "id": "fe942a6b-974a-47ef-908e-89355fe165b7",
   "metadata": {},
   "source": [
    "## Advanced"
   ]
  },
  {
   "cell_type": "markdown",
   "id": "920905b8-bcc3-4d5b-a723-cdd91714e6b4",
   "metadata": {},
   "source": [
    "#### 1: __Check if Two Strings are Anagram__"
   ]
  },
  {
   "cell_type": "markdown",
   "id": "80cd015f-ff3d-4660-b5ff-a5d5ba721d36",
   "metadata": {},
   "source": [
    "Two strings are said to be _anagram_ if alphabets in one string can be arranged to form another string. <br>\n",
    "Example: _Race_ and _Care_"
   ]
  },
  {
   "cell_type": "code",
   "execution_count": null,
   "id": "263de7e3-a09c-477a-99b9-e2aaacd25dc5",
   "metadata": {},
   "outputs": [],
   "source": [
    "## Find if two strings are anagram\n",
    "str1 = \"bored\"\n",
    "str2 = \"Robed\"\n",
    "\n",
    "#  Convert string to all lowercase\n",
    "str1 = str1.lower()\n",
    "str2 = str2.lower()\n",
    "\n",
    "count = 0\n",
    "if len(str1) == len(str2):\n",
    "    for alphabet in str1: \n",
    "        if alphabet in str2:\n",
    "            count += 1\n",
    "        if count == len(str1):\n",
    "            print('Strings {} and {} are anagram'.format(str1, str2))\n",
    "else:\n",
    "    print('Strings {} and {} cannot be anagram because they are of different lengths'.format(str1, str2))\n"
   ]
  },
  {
   "cell_type": "code",
   "execution_count": null,
   "id": "757aa75e-95e1-4938-b0fc-410b0102c43b",
   "metadata": {},
   "outputs": [],
   "source": []
  },
  {
   "cell_type": "markdown",
   "id": "5db5a8b0-463b-40f9-8360-2b82961eda2d",
   "metadata": {},
   "source": [
    "### Test yourself!"
   ]
  },
  {
   "cell_type": "code",
   "execution_count": 8,
   "id": "e285d085-915d-4cf2-bf39-3fcfd11c9630",
   "metadata": {},
   "outputs": [
    {
     "name": "stdout",
     "output_type": "stream",
     "text": [
      "10 5 45\n",
      "23 4 50\n",
      "banana red 9\n"
     ]
    }
   ],
   "source": [
    "# Variables a, b ,c\n",
    "a = 10\n",
    "b = 5\n",
    "c = 45\n",
    "print(a, b, c)\n",
    "\n",
    "# Second method\n",
    "a, b, c = 23, 4, 50\n",
    "print(a, b, c)\n",
    "a, b, c = \"banana\", \"red\", 9\n",
    "print(a, b, c)\n",
    "\n"
   ]
  },
  {
   "cell_type": "code",
   "execution_count": null,
   "id": "f6c1e531-2a9d-4147-a320-d1284df15f22",
   "metadata": {},
   "outputs": [],
   "source": [
    "## Create calculator v1.0"
   ]
  },
  {
   "cell_type": "code",
   "execution_count": null,
   "id": "89100597-ad9f-4179-bbb8-478cb8009859",
   "metadata": {},
   "outputs": [],
   "source": [
    "''' Take two inputs from user\n",
    "Take '+' from user\n",
    "Perform operation'''"
   ]
  }
 ],
 "metadata": {
  "kernelspec": {
   "display_name": "Python 3 (ipykernel)",
   "language": "python",
   "name": "python3"
  },
  "language_info": {
   "codemirror_mode": {
    "name": "ipython",
    "version": 3
   },
   "file_extension": ".py",
   "mimetype": "text/x-python",
   "name": "python",
   "nbconvert_exporter": "python",
   "pygments_lexer": "ipython3",
   "version": "3.8.0"
  }
 },
 "nbformat": 4,
 "nbformat_minor": 5
}
