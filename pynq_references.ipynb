{
 "cells": [
  {
   "cell_type": "markdown",
   "id": "01b6711f-51fc-4b2b-8566-d39a18e656f8",
   "metadata": {},
   "source": [
    "# Useful References"
   ]
  },
  {
   "cell_type": "markdown",
   "id": "8e92326d-2c60-40c3-9ecd-c7280ca58e06",
   "metadata": {},
   "source": [
    "### Resources on Python\n",
    "- [Python Fundamentals](https://www.programiz.com/python-programming) <br>\n",
    "- [Python Examples, simplified](https://www.programiz.com/python-programming/examples) <br>\n",
    "- [Real Python](https://realpython.com): website with more advanced material + interesting news\n",
    "- Great beginner-friendly books: <br>\n",
    "&nbsp;&nbsp;&nbsp;&nbsp;_Learning Python: Powerful Object-Oriented Programming_ by Mark Lutz <br>\n",
    "&nbsp;&nbsp;&nbsp;&nbsp;_Python for Dummies_ by Aahz Maruch and Stef Maruch"
   ]
  },
  {
   "cell_type": "markdown",
   "id": "2c5d252f-adc7-421c-9213-4405854e9282",
   "metadata": {},
   "source": [
    "### Reference Links for PYNQ\n",
    "- [PYNQ Tutorials](https://www.youtube.com/watch?v=a5NnLozPEI0&list=PLjVZA8Z_co6KBmqzyHfzKnJ8LmYd7cU03&index=15)  <br>\n",
    "- [PYNQ Community Area](http://www.pynq.io) <br>\n",
    "- [PYNQ Documentation](https://pynq.readthedocs.io/en/latest/index.html) <br>\n",
    "&nbsp;&nbsp;&nbsp;&nbsp;Information on building and using _Overlays_, _Libraries_, _Design Methodology_, _pynq-package_\n",
    "- More advanced PYNQ projects in this [git repository](https://github.com/Xilinx/PYNQ_Workshop)"
   ]
  },
  {
   "cell_type": "markdown",
   "id": "7be436da-0920-4f5e-9417-a11c54f2b66f",
   "metadata": {},
   "source": [
    "### Visualization Techniques\n",
    "Some Python packages to aid with visual representation of data\n",
    "- [Matplotlib](https://matplotlib.org/stable/tutorials/introductory/pyplot.html) <br>\n",
    "&nbsp;&nbsp;&nbsp;&nbsp;++ Tutorial on [how to display a plot in Python](https://www.activestate.com/resources/quick-reads/how-to-display-a-plot-in-python/) <br>\n",
    "- [Plotly](https://plotly.com/python/)"
   ]
  },
  {
   "cell_type": "markdown",
   "id": "6c938498-73ae-47be-bfc6-2179262af86a",
   "metadata": {},
   "source": [
    "### Introduction to Version Control"
   ]
  },
  {
   "cell_type": "markdown",
   "id": "d410e876-6a1b-4689-b5fc-540d5c53fe93",
   "metadata": {},
   "source": [
    "Find information on creating a fresh repository [here](https://git-scm.com/docs/gittutorial)\n",
    "Interesting read to try running git with VS Co"
   ]
  },
  {
   "cell_type": "markdown",
   "id": "525001d6-b7b7-4560-826d-bc55a6f3b3eb",
   "metadata": {},
   "source": [
    "Useful git commands: <br>\n",
    "- To create new/empty repository: <br>\n",
    "&nbsp;&nbsp;&nbsp;&nbsp;```git init .```\n",
    "- To add file to repository: <br>\n",
    "&nbsp;&nbsp;&nbsp;&nbsp;```git add <file-name>```\n",
    "- To commit file with a message: <br>\n",
    "&nbsp;&nbsp;&nbsp;&nbsp;```git commit -m \"Add message here\"```\n",
    "- To push file into repository: <br>\n",
    "&nbsp;&nbsp;&nbsp;&nbsp;```git push origin main```\n",
    "- To view commit history: <br>\n",
    "&nbsp;&nbsp;&nbsp;&nbsp;```git log```"
   ]
  },
  {
   "cell_type": "markdown",
   "id": "eb9a5efb-d8da-4932-a2f5-4c31eefd5a60",
   "metadata": {},
   "source": [
    "##### __General__\n",
    "- To read some interesting material on Jupyter Notebooks, go [here](https://github.com/jupyterlab/jupyterlab) <br>\n",
    "- To learn some interesting ways to write Markdown, go [here](https://www.earthdatascience.org/courses/intro-to-earth-data-science/file-formats/use-text-files/format-text-with-markdown-jupyter-notebook/) or [here for Markdown with git](https://docs.github.com/en/get-started/writing-on-github/getting-started-with-writing-and-formatting-on-github/basic-writing-and-formatting-syntax) <br>\n",
    "- Quick [Computer Science concepts](https://www.youtube.com/watch?v=-uleG_Vecis) explained\n",
    "- [git for Dummies](https://www.youtube.com/watch?v=-uleG_Vecis), short video "
   ]
  }
 ],
 "metadata": {
  "kernelspec": {
   "display_name": "Python 3 (ipykernel)",
   "language": "python",
   "name": "python3"
  },
  "language_info": {
   "codemirror_mode": {
    "name": "ipython",
    "version": 3
   },
   "file_extension": ".py",
   "mimetype": "text/x-python",
   "name": "python",
   "nbconvert_exporter": "python",
   "pygments_lexer": "ipython3",
   "version": "3.8.0"
  }
 },
 "nbformat": 4,
 "nbformat_minor": 5
}
